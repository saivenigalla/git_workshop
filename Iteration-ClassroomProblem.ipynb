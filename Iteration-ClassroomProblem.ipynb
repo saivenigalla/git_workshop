{
 "cells": [
  {
   "cell_type": "markdown",
   "metadata": {},
   "source": [
    "## Iteration - In-class Activities\n",
    "__Write a program that calculates the amount of money a person would earn over a period of time if his or her salary is  one  penny  the  first  day,  two  pennies  the  second  day, and continues to double each day. The program should ask the user for the number of days. Display a table showing what the salary was for each day. Finally, the program should display the total pay at the end of the period. All output should be displayed as a dollar amounts and not as the number of pennies.__\n"
   ]
  },
  {
   "cell_type": "markdown",
   "metadata": {},
   "source": [
    "```Python\n",
    "no_days = int(input('Enter the number of days: '))\n",
    "sal = 0\n",
    "print('Day\\tSalary')\n",
    "\n",
    "#type in your for loop here\n",
    "    \n",
    "print('the total pay is ${0:0.2f}'.format(sal/100))\n",
    "```"
   ]
  },
  {
   "cell_type": "code",
   "execution_count": 7,
   "metadata": {},
   "outputs": [
    {
     "name": "stdout",
     "output_type": "stream",
     "text": [
      "Enter the number of days: 9\n",
      "Day\twage\n",
      "1 \t 1\n",
      "2 \t 2\n",
      "3 \t 4\n",
      "4 \t 8\n",
      "5 \t 16\n",
      "6 \t 32\n",
      "7 \t 64\n",
      "8 \t 128\n",
      "9 \t 256\n",
      "the total pay is $5.11\n"
     ]
    }
   ],
   "source": [
    "no_days = int(input('Enter the number of days: '))\n",
    "sal = 0\n",
    "print('Day\\twage')\n",
    "\n",
    "for day in range(1, no_days+1) :\n",
    "    wage = 1 * 2 ** (day-1)\n",
    "    sal += wage\n",
    "    print(day, \"\\t\", wage)\n",
    "\n",
    "print('the total pay is ${0:0.2f}'.format(sal/100))"
   ]
  },
  {
   "cell_type": "markdown",
   "metadata": {},
   "source": [
    "__Extend the program written above as follows:__ \n",
    "\n",
    "__If the first day is Monday and the person doesn't earn salary on Sundays, display the same table again. Assume on Sundays salary doesn't double, i.e. Sunday's salary remains the same as Saturday's salary.__"
   ]
  },
  {
   "cell_type": "markdown",
   "metadata": {},
   "source": [
    "```Python\n",
    "no_days = int(input('Enter the number of days: '))\n",
    "sal = 0\n",
    "cur_sal=0.5\n",
    "print('Day\\tSalary')\n",
    "\n",
    "#type in your for loop here\n",
    "   \n",
    "print('the total pay is ${0:0.2f}'.format(sal/100))\n",
    "```"
   ]
  },
  {
   "cell_type": "code",
   "execution_count": 4,
   "metadata": {},
   "outputs": [
    {
     "name": "stdout",
     "output_type": "stream",
     "text": [
      "Enter the number of days: 8\n",
      "Day\tSalary\n",
      "1 \t 1\n",
      "2 \t 2\n",
      "3 \t 4\n",
      "4 \t 8\n",
      "5 \t 16\n",
      "6 \t 32\n",
      "7 \t 32\n",
      "8 \t 128\n",
      "the total pay is $2.23\n"
     ]
    }
   ],
   "source": [
    "no_days = int(input('Enter the number of days: '))\n",
    "sal = 0\n",
    "cur_sal=0.5\n",
    "print('Day\\tSalary')\n",
    "\n",
    "for day in range(1, no_days+1) :\n",
    "    if day % 7 == 0:\n",
    "        wage = 1 * 2 ** (day-2)\n",
    "    else:\n",
    "        wage = 1 * 2 ** (day-1)\n",
    "    sal += wage\n",
    "    print(day, \"\\t\", wage)\n",
    "\n",
    "print('the total pay is ${0:0.2f}'.format(sal/100))"
   ]
  },
  {
   "cell_type": "code",
   "execution_count": 2,
   "metadata": {},
   "outputs": [
    {
     "name": "stdout",
     "output_type": "stream",
     "text": [
      "Enter the number of days: 30\n",
      "Day\tSalary\n",
      "1 \t 1\n",
      "2 \t 2\n",
      "3 \t 4\n",
      "4 \t 8\n",
      "5 \t 16\n",
      "6 \t 32\n",
      "7 \t 0\n",
      "8 \t 64\n",
      "9 \t 128\n",
      "10 \t 256\n",
      "11 \t 512\n",
      "12 \t 1024\n",
      "13 \t 2048\n",
      "14 \t 0\n",
      "15 \t 4096\n",
      "16 \t 8192\n",
      "17 \t 16384\n",
      "18 \t 32768\n",
      "19 \t 65536\n",
      "20 \t 131072\n",
      "21 \t 0\n",
      "22 \t 262144\n",
      "23 \t 524288\n",
      "24 \t 1048576\n",
      "25 \t 2097152\n",
      "26 \t 4194304\n",
      "27 \t 8388608\n",
      "28 \t 0\n",
      "29 \t 16777216\n",
      "30 \t 33554432\n",
      "the total pay is $671088.63\n"
     ]
    }
   ],
   "source": [
    "no_days = int(input('Enter the number of days: '))\n",
    "sal = 0\n",
    "cur_sal=0.5\n",
    "print('Day\\tSalary')\n",
    "\n",
    "for day in range(1, no_days+1) :\n",
    "    n = int(day/7)\n",
    "    \n",
    "    if day == 1:\n",
    "        wage = 1\n",
    "    elif day % 7 == 0:\n",
    "        wage = 0\n",
    "    else:\n",
    "        wage = 2 ** (day-n-1)\n",
    "        \n",
    "    sal += wage\n",
    "    print(day, \"\\t\", wage)\n",
    "\n",
    "print('the total pay is ${0:0.2f}'.format(sal/100))"
   ]
  },
  {
   "cell_type": "markdown",
   "metadata": {},
   "source": [
    "# "
   ]
  },
  {
   "cell_type": "code",
   "execution_count": 14,
   "metadata": {},
   "outputs": [
    {
     "data": {
      "text/plain": [
       "3"
      ]
     },
     "execution_count": 14,
     "metadata": {},
     "output_type": "execute_result"
    }
   ],
   "source": [
    "int(19/5)\n"
   ]
  },
  {
   "cell_type": "code",
   "execution_count": 24,
   "metadata": {},
   "outputs": [
    {
     "ename": "SyntaxError",
     "evalue": "can't assign to function call (<ipython-input-24-28b94be78ed2>, line 1)",
     "output_type": "error",
     "traceback": [
      "\u001b[0;36m  File \u001b[0;32m\"<ipython-input-24-28b94be78ed2>\"\u001b[0;36m, line \u001b[0;32m1\u001b[0m\n\u001b[0;31m    int(3.99) = a\u001b[0m\n\u001b[0m                 ^\u001b[0m\n\u001b[0;31mSyntaxError\u001b[0m\u001b[0;31m:\u001b[0m can't assign to function call\n"
     ]
    }
   ],
   "source": [
    "int(3.99) = a\n",
    "print(a)"
   ]
  },
  {
   "cell_type": "code",
   "execution_count": null,
   "metadata": {},
   "outputs": [],
   "source": []
  }
 ],
 "metadata": {
  "kernelspec": {
   "display_name": "Python 3",
   "language": "python",
   "name": "python3"
  },
  "language_info": {
   "codemirror_mode": {
    "name": "ipython",
    "version": 3
   },
   "file_extension": ".py",
   "mimetype": "text/x-python",
   "name": "python",
   "nbconvert_exporter": "python",
   "pygments_lexer": "ipython3",
   "version": "3.7.4"
  }
 },
 "nbformat": 4,
 "nbformat_minor": 2
}
